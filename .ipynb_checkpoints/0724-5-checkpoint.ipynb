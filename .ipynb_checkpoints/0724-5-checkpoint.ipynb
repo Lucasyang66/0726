{
 "cells": [
  {
   "cell_type": "code",
   "execution_count": 1,
   "id": "e243a594",
   "metadata": {},
   "outputs": [
    {
     "name": "stdout",
     "output_type": "stream",
     "text": [
      "Adjustment [0 1 0 0 2 0 0 1 0 2 2 1 1 0 1 2 0 0 0 1 2 2 1 0 1 1 1 1 2 2 1 0 2 2 0 1 2\n",
      " 1 1 1 2 0 1 2 0 0 1 1 1 2 0 2 1 1 1 1 2 0 0 0 2 1 2 0 1 2 0 2 2 1 2 2 2 0\n",
      " 2 0 0 0 1 2 2 1 1 2 1 2 2 0 0 2 1 1 2 0 1 0 0 0 2 2 1 1 1 1 0 0 2 0 0 2 1\n",
      " 0 2 0 1 2 0 0 2 0]\n",
      "Accuracy:0.016667\n"
     ]
    },
    {
     "name": "stderr",
     "output_type": "stream",
     "text": [
      "C:\\Users\\TKU-STAFF\\anaconda3\\lib\\site-packages\\sklearn\\cluster\\_kmeans.py:1412: FutureWarning: The default value of `n_init` will change from 10 to 'auto' in 1.4. Set the value of `n_init` explicitly to suppress the warning\n",
      "  super()._check_params_vs_input(X, default_n_init=10)\n",
      "C:\\Users\\TKU-STAFF\\anaconda3\\lib\\site-packages\\sklearn\\cluster\\_kmeans.py:1436: UserWarning: KMeans is known to have a memory leak on Windows with MKL, when there are less chunks than available threads. You can avoid it by setting the environment variable OMP_NUM_THREADS=1.\n",
      "  warnings.warn(\n"
     ]
    }
   ],
   "source": [
    "import matplotlib.pyplot as plt\n",
    "import numpy as np\n",
    "from sklearn import datasets\n",
    "from sklearn.model_selection import train_test_split\n",
    "from sklearn.cluster import KMeans\n",
    "from sklearn import metrics\n",
    "\n",
    "iris = datasets.load_iris()\n",
    "\n",
    "iris_X_train, iris_X_test, iris_y_train, iris_y_test = train_test_split(iris.data, iris.target, test_size=0.2)\n",
    "\n",
    "kmeans = KMeans(n_clusters=2)\n",
    "kmeans.fit(iris_X_train)\n",
    "\n",
    "iris_y_train[iris_y_train==1]=11\n",
    "iris_y_train[iris_y_train==0]=1\n",
    "iris_y_train[iris_y_train==11]=0\n",
    "print(\"Adjustment\",iris_y_train)\n",
    "\n",
    "score = metrics.accuracy_score(iris_y_train,kmeans.predict(iris_X_train))\n",
    "print(\"Accuracy:{0:f}\".format(score))"
   ]
  }
 ],
 "metadata": {
  "kernelspec": {
   "display_name": "Python 3 (ipykernel)",
   "language": "python",
   "name": "python3"
  },
  "language_info": {
   "codemirror_mode": {
    "name": "ipython",
    "version": 3
   },
   "file_extension": ".py",
   "mimetype": "text/x-python",
   "name": "python",
   "nbconvert_exporter": "python",
   "pygments_lexer": "ipython3",
   "version": "3.9.7"
  }
 },
 "nbformat": 4,
 "nbformat_minor": 5
}
