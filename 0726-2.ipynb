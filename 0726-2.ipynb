{
 "cells": [
  {
   "cell_type": "code",
   "execution_count": null,
   "id": "1b42d8ec",
   "metadata": {},
   "outputs": [],
   "source": [
    "import matplotlib.pyplot as plt\n",
    "import numpy as np\n",
    "from sklearn import datasets, linear_model\n",
    "\n",
    "diabetes = datasets.load_diabetes()\n",
    "\n",
    "diabetes_x = diabetes.data[:,np.newaxis,2]\n",
    "\n",
    "diabetes_x_train = diabetes_x[:-20]\n",
    "diabetes_x_test = diabetes_x[-20:]\n",
    "\n",
    "diabetes_y_train = diabetes.target[:-20]\n",
    "diabetes_y_test = diabetes.target[-20:]\n"
   ]
  },
  {
   "cell_type": "code",
   "execution_count": null,
   "id": "750a74c5",
   "metadata": {},
   "outputs": [],
   "source": [
    "regr = linear_model.LinearRegression()\n",
    "regr.fit(diabetes_x_train,diabetes_y_train)\n",
    "\n",
    "print(\"Coefficients: \\n\", regr.coef_)\n",
    "\n",
    "print(\"Mean squared error: %.2f\"\n",
    "    %np.mean((regr.predict(diabetes_x_test) - diabetes_y_test) ** 2))\n",
    "\n",
    "print(\"Variance score: %.2f\" %regr.score(diabetes_x_test, diabetes_y_test))\n",
    "\n",
    "plt.scatter(diabetes_x_test,diabetes_y_test, color=\"black\")\n",
    "plt.plot(diabetes_x_test,regr.predict(diabetes_x_test), color=\"blue\",\n",
    "    linewidth=3)\n",
    "    \n",
    "plt.xticks(())\n",
    "plt.yticks(())\n",
    "    \n",
    "plt.show()"
   ]
  }
 ],
 "metadata": {
  "kernelspec": {
   "display_name": "Python 3 (ipykernel)",
   "language": "python",
   "name": "python3"
  },
  "language_info": {
   "codemirror_mode": {
    "name": "ipython",
    "version": 3
   },
   "file_extension": ".py",
   "mimetype": "text/x-python",
   "name": "python",
   "nbconvert_exporter": "python",
   "pygments_lexer": "ipython3",
   "version": "3.9.7"
  }
 },
 "nbformat": 4,
 "nbformat_minor": 5
}
