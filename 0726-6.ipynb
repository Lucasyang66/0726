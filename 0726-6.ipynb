{
 "cells": [
  {
   "cell_type": "code",
   "execution_count": 2,
   "id": "9a9e1bbb",
   "metadata": {},
   "outputs": [],
   "source": [
    "import numpy as np"
   ]
  },
  {
   "cell_type": "code",
   "execution_count": 3,
   "id": "9fa89fac",
   "metadata": {},
   "outputs": [],
   "source": [
    "np1 = np.array([1,2,3,4])\n",
    "np2= np.array([5,6,7,8])"
   ]
  },
  {
   "cell_type": "code",
   "execution_count": 4,
   "id": "9c1d1740",
   "metadata": {},
   "outputs": [
    {
     "name": "stdout",
     "output_type": "stream",
     "text": [
      "[1 2 3 4]\n",
      "[5 6 7 8]\n",
      "<class 'numpy.ndarray'> <class 'numpy.ndarray'>\n"
     ]
    }
   ],
   "source": [
    "print(np1)\n",
    "print(np2)\n",
    "print(type(np1),type(np2))"
   ]
  },
  {
   "cell_type": "code",
   "execution_count": 5,
   "id": "8814ebcc",
   "metadata": {},
   "outputs": [
    {
     "name": "stdout",
     "output_type": "stream",
     "text": [
      "[ 9 11 13 15 17 19 21 23 25 27 29]\n"
     ]
    }
   ],
   "source": [
    "np3 = np.arange(9,31,2)\n",
    "print(np3)"
   ]
  },
  {
   "cell_type": "code",
   "execution_count": 6,
   "id": "8813a85b",
   "metadata": {},
   "outputs": [
    {
     "name": "stdout",
     "output_type": "stream",
     "text": [
      "[ 1.  8. 15.]\n"
     ]
    }
   ],
   "source": [
    "np4 = np.linspace(1,15,3)\n",
    "print(np4)"
   ]
  },
  {
   "cell_type": "code",
   "execution_count": 7,
   "id": "00e9a4e7",
   "metadata": {},
   "outputs": [
    {
     "name": "stdout",
     "output_type": "stream",
     "text": [
      "[0. 0. 0. 0. 0.]\n"
     ]
    }
   ],
   "source": [
    "np5 = np.zeros((5,))\n",
    "print(np5)"
   ]
  },
  {
   "cell_type": "code",
   "execution_count": 9,
   "id": "c918377f",
   "metadata": {},
   "outputs": [
    {
     "name": "stdout",
     "output_type": "stream",
     "text": [
      "[1. 1. 1. 1. 1.]\n"
     ]
    }
   ],
   "source": [
    "np6 = np.ones((5,))\n",
    "print(np6)"
   ]
  },
  {
   "cell_type": "code",
   "execution_count": 10,
   "id": "bd55ca80",
   "metadata": {},
   "outputs": [
    {
     "name": "stdout",
     "output_type": "stream",
     "text": [
      "[[1. 1.]\n",
      " [1. 1.]\n",
      " [1. 1.]\n",
      " [1. 1.]\n",
      " [1. 1.]]\n"
     ]
    }
   ],
   "source": [
    "np7 = np.ones((5,2))\n",
    "print(np7)"
   ]
  },
  {
   "cell_type": "code",
   "execution_count": 11,
   "id": "2be36769",
   "metadata": {},
   "outputs": [
    {
     "name": "stdout",
     "output_type": "stream",
     "text": [
      "[[ 1  2  3  4  5]\n",
      " [ 6  7  8  9 10]]\n",
      "dimension 2\n",
      "shape (2, 5)\n",
      "amount 10\n"
     ]
    }
   ],
   "source": [
    "listdata = [[1,2,3,4,5],[6,7,8,9,10]]\n",
    "\n",
    "np8 = np.array(listdata)\n",
    "print(np8)\n",
    "print(\"dimension\", np8.ndim)\n",
    "print(\"shape\", np8.shape)\n",
    "print(\"amount\", np8.size)"
   ]
  },
  {
   "cell_type": "code",
   "execution_count": 12,
   "id": "c73de865",
   "metadata": {},
   "outputs": [
    {
     "name": "stdout",
     "output_type": "stream",
     "text": [
      "[ 1  2  3  4  5  6  7  8  9 10 11 12 13 14 15 16 17 18 19 20]\n"
     ]
    }
   ],
   "source": [
    "np9 = np.arange(1,21)\n",
    "print(np9)"
   ]
  },
  {
   "cell_type": "code",
   "execution_count": 14,
   "id": "cd6b4709",
   "metadata": {},
   "outputs": [
    {
     "name": "stdout",
     "output_type": "stream",
     "text": [
      "[[ 1  2  3  4  5]\n",
      " [ 6  7  8  9 10]\n",
      " [11 12 13 14 15]\n",
      " [16 17 18 19 20]]\n"
     ]
    }
   ],
   "source": [
    "np10 = np9.reshape(4,5)\n",
    "print(np10)"
   ]
  }
 ],
 "metadata": {
  "kernelspec": {
   "display_name": "Python 3 (ipykernel)",
   "language": "python",
   "name": "python3"
  },
  "language_info": {
   "codemirror_mode": {
    "name": "ipython",
    "version": 3
   },
   "file_extension": ".py",
   "mimetype": "text/x-python",
   "name": "python",
   "nbconvert_exporter": "python",
   "pygments_lexer": "ipython3",
   "version": "3.9.7"
  }
 },
 "nbformat": 4,
 "nbformat_minor": 5
}
