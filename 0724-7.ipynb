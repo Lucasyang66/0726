{
 "cells": [
  {
   "cell_type": "code",
   "execution_count": 2,
   "id": "8d7484cd",
   "metadata": {},
   "outputs": [],
   "source": [
    "import pandas as pd"
   ]
  },
  {
   "cell_type": "code",
   "execution_count": 3,
   "id": "5f203953",
   "metadata": {},
   "outputs": [
    {
     "name": "stdout",
     "output_type": "stream",
     "text": [
      "0    1\n",
      "1    2\n",
      "2    3\n",
      "3    4\n",
      "4    5\n",
      "dtype: int64\n",
      "[1 2 3 4 5]\n",
      "RangeIndex(start=0, stop=5, step=1)\n"
     ]
    }
   ],
   "source": [
    "hipandas = pd.Series([1,2,3,4,5])\n",
    "print(hipandas)\n",
    "print(hipandas.values)\n",
    "print(hipandas.index)"
   ]
  },
  {
   "cell_type": "code",
   "execution_count": 6,
   "id": "d47fb536",
   "metadata": {},
   "outputs": [
    {
     "name": "stdout",
     "output_type": "stream",
     "text": [
      "{'Taipei': '台北', 'Taichung': '台中', 'Kaohsiung': '高雄'}\n"
     ]
    }
   ],
   "source": [
    "dict1 = {'Taipei': '台北', 'Taichung': '台中', 'Kaohsiung': '高雄'}\n",
    "print(dict1)"
   ]
  },
  {
   "cell_type": "code",
   "execution_count": 7,
   "id": "e5faea33",
   "metadata": {},
   "outputs": [
    {
     "name": "stdout",
     "output_type": "stream",
     "text": [
      "Taipei       台北\n",
      "Taichung     台中\n",
      "Kaohsiung    高雄\n",
      "dtype: object\n",
      "['台北' '台中' '高雄']\n",
      "Index(['Taipei', 'Taichung', 'Kaohsiung'], dtype='object')\n",
      "台北\n"
     ]
    }
   ],
   "source": [
    "city = pd.Series(dict1)\n",
    "print(city)\n",
    "print(city.values)\n",
    "print(city.index)\n",
    "print(city[\"Taipei\"])"
   ]
  },
  {
   "cell_type": "code",
   "execution_count": 10,
   "id": "223ed330",
   "metadata": {},
   "outputs": [
    {
     "name": "stdout",
     "output_type": "stream",
     "text": [
      "    0   1   2   3   4\n",
      "0  65  92  78  83  70\n",
      "1  90  72  76  93  56\n",
      "2  81  85  91  89  77\n",
      "3  79  53  47  94  80\n"
     ]
    }
   ],
   "source": [
    "df = pd.DataFrame([[65,92,78,83,70],\n",
    "                   [90,72,76,93,56],\n",
    "                   [81,85,91,89,77],\n",
    "                   [79,53,47,94,80]])\n",
    "print(df)"
   ]
  },
  {
   "cell_type": "code",
   "execution_count": 11,
   "id": "e4fb886e",
   "metadata": {},
   "outputs": [
    {
     "name": "stdout",
     "output_type": "stream",
     "text": [
      "     國文  英文  數學  自然  社會\n",
      "王小明  65  92  78  83  70\n",
      "李小美  90  72  76  93  56\n",
      "陳大同  81  85  91  89  77\n",
      "林小玉  79  53  47  94  80\n"
     ]
    }
   ],
   "source": [
    "df1 = pd.DataFrame([[65,92,78,83,70], \n",
    "                   [90,72,76,93,56], \n",
    "                   [81,85,91,89,77], \n",
    "                   [79,53,47,94,80]],\n",
    "                   index=['王小明','李小美','陳大同','林小玉'],\n",
    "                   columns=['國文','英文','數學','自然','社會'])\n",
    "print(df1)"
   ]
  },
  {
   "cell_type": "code",
   "execution_count": 12,
   "id": "92c68cb0",
   "metadata": {},
   "outputs": [
    {
     "name": "stdout",
     "output_type": "stream",
     "text": [
      "     國文  英文  數學  自然  社會\n",
      "王小明  65  92  78  83  70\n",
      "李小美  90  72  76  93  56\n",
      "陳大同  81  85  91  89  94\n",
      "林小玉  79  53  47  94  80\n"
     ]
    }
   ],
   "source": [
    "scores = {'國文':{'王小明':65,'李小美':90,'陳大同':81,'林小玉':79},\n",
    "          '英文':{'王小明':92,'李小美':72,'陳大同':85,'林小玉':53},\n",
    "          '數學':{'王小明':78,'李小美':76,'陳大同':91,'林小玉':47},\n",
    "          '自然':{'王小明':83,'李小美':93,'陳大同':89,'林小玉':94},\n",
    "          '社會':{'王小明':70,'李小美':56,'陳大同':94,'林小玉':80}}\n",
    "df2 = pd.DataFrame(scores)\n",
    "print(df2)"
   ]
  },
  {
   "cell_type": "code",
   "execution_count": 13,
   "id": "923a6c21",
   "metadata": {},
   "outputs": [
    {
     "name": "stdout",
     "output_type": "stream",
     "text": [
      "     國文  英文  數學  自然  社會\n",
      "王小明  65  92  78  83  70\n",
      "李小美  90  72  76  93  56\n",
      "陳大同  81  85  91  89  94\n",
      "林小玉  79  53  47  94  80\n"
     ]
    }
   ],
   "source": [
    "se1 = pd.Series({'王小明':65,'李小美':90,'陳大同':81,'林小玉':79})\n",
    "se2 = pd.Series({'王小明':92,'李小美':72,'陳大同':85,'林小玉':53})\n",
    "se3 = pd.Series({'王小明':78,'李小美':76,'陳大同':91,'林小玉':47})\n",
    "se4 = pd.Series({'王小明':83,'李小美':93,'陳大同':89,'林小玉':94})\n",
    "se5 = pd.Series({'王小明':70,'李小美':56,'陳大同':94,'林小玉':80})\n",
    "df3 = pd.DataFrame({ '國文':se1,'英文':se2,'數學':se3,\n",
    "                   '自然':se4,'社會':se5} )\n",
    "print(df3)"
   ]
  },
  {
   "cell_type": "code",
   "execution_count": null,
   "id": "486c48e9",
   "metadata": {},
   "outputs": [],
   "source": []
  }
 ],
 "metadata": {
  "kernelspec": {
   "display_name": "Python 3 (ipykernel)",
   "language": "python",
   "name": "python3"
  },
  "language_info": {
   "codemirror_mode": {
    "name": "ipython",
    "version": 3
   },
   "file_extension": ".py",
   "mimetype": "text/x-python",
   "name": "python",
   "nbconvert_exporter": "python",
   "pygments_lexer": "ipython3",
   "version": "3.9.7"
  }
 },
 "nbformat": 4,
 "nbformat_minor": 5
}
